{
 "cells": [
  {
   "cell_type": "markdown",
   "metadata": {},
   "source": [
    "## RSA Cipher"
   ]
  },
  {
   "cell_type": "code",
   "execution_count": 1,
   "metadata": {},
   "outputs": [],
   "source": [
    "p = 11\n",
    "q = 3\n",
    "N = q*p\n",
    "M = 15\n",
    "n = (p -1)*(q - 1)\n"
   ]
  },
  {
   "cell_type": "markdown",
   "metadata": {},
   "source": [
    "- sinh ngẫu nhiên các số nguyên tố trong khoảng 2 -> 2^i\n",
    "Chọn p và q ngẫu nhiên trong danh sách thỏa mãn condition"
   ]
  },
  {
   "cell_type": "code",
   "execution_count": 1,
   "metadata": {},
   "outputs": [
    {
     "name": "stdout",
     "output_type": "stream",
     "text": [
      "True\n"
     ]
    }
   ],
   "source": [
    "from math import sqrt\n",
    "def check_prime (n):\n",
    "    prime_flag = 0\n",
    "    if(n > 1):\n",
    "        for i in range(2, int(sqrt(n)) + 1):\n",
    "            if (n % i == 0):\n",
    "                prime_flag = 1\n",
    "                return False\n",
    "                \n",
    "        if (prime_flag == 0):\n",
    "            return True            \n",
    "    else:\n",
    "        return False\n",
    "\n",
    "print (check_prime(7))\n"
   ]
  },
  {
   "cell_type": "code",
   "execution_count": 3,
   "metadata": {},
   "outputs": [
    {
     "name": "stdout",
     "output_type": "stream",
     "text": [
      "[2, 3, 5, 7, 11, 13, 17, 19, 23, 29, 31, 37, 41, 43, 47, 53, 59, 61, 67, 71, 73, 79, 83, 89, 97, 101, 103, 107, 109, 113, 127]\n"
     ]
    }
   ],
   "source": [
    "i = 7\n",
    "prime_list = []\n",
    "for i in range (2, 2**i):\n",
    "    if (check_prime(i) == True):\n",
    "        prime_list.append(i)\n",
    "\n",
    "print (prime_list)"
   ]
  },
  {
   "cell_type": "code",
   "execution_count": 4,
   "metadata": {},
   "outputs": [
    {
     "name": "stdout",
     "output_type": "stream",
     "text": [
      "2\n"
     ]
    },
    {
     "ename": "KeyboardInterrupt",
     "evalue": "",
     "output_type": "error",
     "traceback": [
      "\u001b[0;31m---------------------------------------------------------------------------\u001b[0m",
      "\u001b[0;31mKeyboardInterrupt\u001b[0m                         Traceback (most recent call last)",
      "\u001b[1;32m/home/bella/giao trinh/An_toan_thong_tin/Cipher3.ipynb Cell 6'\u001b[0m in \u001b[0;36m<cell line: 7>\u001b[0;34m()\u001b[0m\n\u001b[1;32m      <a href='vscode-notebook-cell:/home/bella/giao%20trinh/An_toan_thong_tin/Cipher3.ipynb#ch0000005?line=5'>6</a>\u001b[0m q \u001b[39m=\u001b[39m \u001b[39m2\u001b[39m\n\u001b[1;32m      <a href='vscode-notebook-cell:/home/bella/giao%20trinh/An_toan_thong_tin/Cipher3.ipynb#ch0000005?line=6'>7</a>\u001b[0m \u001b[39mwhile\u001b[39;00m \u001b[39m2\u001b[39m\u001b[39m*\u001b[39m\u001b[39m*\u001b[39m(i\u001b[39m-\u001b[39m\u001b[39m1\u001b[39m) \u001b[39m>\u001b[39m q\u001b[39m*\u001b[39mp \u001b[39mor\u001b[39;00m q\u001b[39m*\u001b[39mp \u001b[39m>\u001b[39m \u001b[39m2\u001b[39m\u001b[39m*\u001b[39m\u001b[39m*\u001b[39mi:\n\u001b[1;32m      <a href='vscode-notebook-cell:/home/bella/giao%20trinh/An_toan_thong_tin/Cipher3.ipynb#ch0000005?line=7'>8</a>\u001b[0m     \u001b[39m# print (q)\u001b[39;00m\n\u001b[0;32m----> <a href='vscode-notebook-cell:/home/bella/giao%20trinh/An_toan_thong_tin/Cipher3.ipynb#ch0000005?line=8'>9</a>\u001b[0m     q \u001b[39m=\u001b[39m random\u001b[39m.\u001b[39;49mchoice(coppy)\n\u001b[1;32m     <a href='vscode-notebook-cell:/home/bella/giao%20trinh/An_toan_thong_tin/Cipher3.ipynb#ch0000005?line=10'>11</a>\u001b[0m \u001b[39mprint\u001b[39m (q)\n",
      "File \u001b[0;32m/usr/lib/python3.8/random.py:288\u001b[0m, in \u001b[0;36mRandom.choice\u001b[0;34m(self, seq)\u001b[0m\n\u001b[1;32m    <a href='file:///usr/lib/python3.8/random.py?line=285'>286</a>\u001b[0m \u001b[39m\"\"\"Choose a random element from a non-empty sequence.\"\"\"\u001b[39;00m\n\u001b[1;32m    <a href='file:///usr/lib/python3.8/random.py?line=286'>287</a>\u001b[0m \u001b[39mtry\u001b[39;00m:\n\u001b[0;32m--> <a href='file:///usr/lib/python3.8/random.py?line=287'>288</a>\u001b[0m     i \u001b[39m=\u001b[39m \u001b[39mself\u001b[39;49m\u001b[39m.\u001b[39;49m_randbelow(\u001b[39mlen\u001b[39;49m(seq))\n\u001b[1;32m    <a href='file:///usr/lib/python3.8/random.py?line=288'>289</a>\u001b[0m \u001b[39mexcept\u001b[39;00m \u001b[39mValueError\u001b[39;00m:\n\u001b[1;32m    <a href='file:///usr/lib/python3.8/random.py?line=289'>290</a>\u001b[0m     \u001b[39mraise\u001b[39;00m \u001b[39mIndexError\u001b[39;00m(\u001b[39m'\u001b[39m\u001b[39mCannot choose from an empty sequence\u001b[39m\u001b[39m'\u001b[39m) \u001b[39mfrom\u001b[39;00m \u001b[39mNone\u001b[39m\n",
      "File \u001b[0;32m/usr/lib/python3.8/random.py:255\u001b[0m, in \u001b[0;36mRandom._randbelow_with_getrandbits\u001b[0;34m(self, n)\u001b[0m\n\u001b[1;32m    <a href='file:///usr/lib/python3.8/random.py?line=252'>253</a>\u001b[0m getrandbits \u001b[39m=\u001b[39m \u001b[39mself\u001b[39m\u001b[39m.\u001b[39mgetrandbits\n\u001b[1;32m    <a href='file:///usr/lib/python3.8/random.py?line=253'>254</a>\u001b[0m k \u001b[39m=\u001b[39m n\u001b[39m.\u001b[39mbit_length()  \u001b[39m# don't use (n-1) here because n can be 1\u001b[39;00m\n\u001b[0;32m--> <a href='file:///usr/lib/python3.8/random.py?line=254'>255</a>\u001b[0m r \u001b[39m=\u001b[39m getrandbits(k)          \u001b[39m# 0 <= r < 2**k\u001b[39;00m\n\u001b[1;32m    <a href='file:///usr/lib/python3.8/random.py?line=255'>256</a>\u001b[0m \u001b[39mwhile\u001b[39;00m r \u001b[39m>\u001b[39m\u001b[39m=\u001b[39m n:\n\u001b[1;32m    <a href='file:///usr/lib/python3.8/random.py?line=256'>257</a>\u001b[0m     r \u001b[39m=\u001b[39m getrandbits(k)\n",
      "\u001b[0;31mKeyboardInterrupt\u001b[0m: "
     ]
    }
   ],
   "source": [
    "import random\n",
    "print (p)\n",
    "coppy = prime_list\n",
    "q = 2\n",
    "p = 2\n",
    "while 2**(i-1) > q*p or q*p > 2**i:\n",
    "    p = random.choice(prime_list)\n",
    "    q = random.choice(coppy)\n",
    "\n",
    "print (q)\n",
    "    "
   ]
  },
  {
   "cell_type": "code",
   "execution_count": 6,
   "metadata": {},
   "outputs": [
    {
     "name": "stdout",
     "output_type": "stream",
     "text": [
      "3\n"
     ]
    }
   ],
   "source": [
    "# Tim so nguyen to cung nhau\n",
    "def gcd(a, b):\n",
    "    while b != 0:\n",
    "        a, b = b, a % b\n",
    "    return a\n",
    "\n",
    "def coprime(n):\n",
    "\n",
    "    for i in range (2,n):\n",
    "        if gcd(i, n) == 1:\n",
    "            return i\n",
    "# print(coprime(n))"
   ]
  },
  {
   "cell_type": "code",
   "execution_count": 3,
   "metadata": {},
   "outputs": [
    {
     "name": "stdout",
     "output_type": "stream",
     "text": [
      "7\n"
     ]
    }
   ],
   "source": [
    "# Nghich dao trong phep modulo\n",
    "\n",
    "def find_inverse (e, n):\n",
    "    for i in range (1, n):\n",
    "        if (e*i) % n == 1:\n",
    "            return i\n",
    "# print(find_inverse(3,20))"
   ]
  },
  {
   "cell_type": "code",
   "execution_count": 8,
   "metadata": {},
   "outputs": [
    {
     "name": "stdout",
     "output_type": "stream",
     "text": [
      "9\n"
     ]
    }
   ],
   "source": [
    "def encrypt (e):\n",
    "    C = M**e % N\n",
    "    return C\n",
    "\n",
    "e = coprime(n)\n",
    "print(encrypt(e))\n"
   ]
  },
  {
   "cell_type": "code",
   "execution_count": 10,
   "metadata": {},
   "outputs": [
    {
     "data": {
      "text/plain": [
       "15"
      ]
     },
     "execution_count": 10,
     "metadata": {},
     "output_type": "execute_result"
    }
   ],
   "source": [
    "def decrypt (C, d):\n",
    "    M = C ** d % N\n",
    "    return M\n",
    "d = find_inverse(e,n)\n",
    "decrypt(9,d)"
   ]
  },
  {
   "cell_type": "markdown",
   "metadata": {},
   "source": [
    "## A5/1"
   ]
  },
  {
   "cell_type": "code",
   "execution_count": null,
   "metadata": {},
   "outputs": [],
   "source": [
    "import numpy as np\n",
    "x = np.random.randint(2, size=6)\n",
    "y = np.random.randint(2, size=8)\n",
    "z = np.random.randint(2, size=9)\n",
    "print (x)\n",
    "print (y)\n",
    "print (z)"
   ]
  },
  {
   "cell_type": "code",
   "execution_count": null,
   "metadata": {},
   "outputs": [],
   "source": [
    "def maj (x, y, z):\n",
    "    if (x == 0 and y == 0) or (x == 0 and z == 0) or (y == 0 and z == 0):\n",
    "        return 0\n",
    "    else : \n",
    "        return 1"
   ]
  },
  {
   "cell_type": "code",
   "execution_count": null,
   "metadata": {},
   "outputs": [],
   "source": [
    "keys = []\n",
    "\n",
    "for i in range (3):\n",
    "    m = maj(x[1], y[3], z[3])\n",
    "#     print (m)\n",
    "# or x[0] = t, then append x[i] into new X (till n - 1)\n",
    "    if (x[1] == m):\n",
    "        t = x[2]^x[4]^x[5]\n",
    "        for i in range (len(x) - 1, 0, -1):\n",
    "            if (i == 0):\n",
    "                x[i] = t  \n",
    "            else :\n",
    "                x[i] = x[i - 1]\n",
    "    if (y[3] == m):\n",
    "        t = y[6]^y[7]\n",
    "        for i in range (len(y) - 1, 0, -1):\n",
    "            if (i == 0):\n",
    "                y[i] = t  \n",
    "            else :\n",
    "                y[i] = y[i - 1]\n",
    "\n",
    "    if (z[3] == m):\n",
    "        t = z[2] ^ z[7] ^ z[8]\n",
    "        for i in range (len(z) - 1, 0, -1):\n",
    "            if (i == 0):\n",
    "                z[i] = t  \n",
    "            else :\n",
    "                z[i] = z[i - 1]\n",
    "    key = x[len(x) - 1] ^ y[len(y) - 1]^z[len(z) - 1]\n",
    "    keys.append(key)\n",
    "print (keys)"
   ]
  }
 ],
 "metadata": {
  "interpreter": {
   "hash": "916dbcbb3f70747c44a77c7bcd40155683ae19c65e1c03b4aa3499c5328201f1"
  },
  "kernelspec": {
   "display_name": "Python 3.8.10 64-bit",
   "language": "python",
   "name": "python3"
  },
  "language_info": {
   "codemirror_mode": {
    "name": "ipython",
    "version": 3
   },
   "file_extension": ".py",
   "mimetype": "text/x-python",
   "name": "python",
   "nbconvert_exporter": "python",
   "pygments_lexer": "ipython3",
   "version": "3.8.10"
  },
  "orig_nbformat": 4
 },
 "nbformat": 4,
 "nbformat_minor": 2
}
